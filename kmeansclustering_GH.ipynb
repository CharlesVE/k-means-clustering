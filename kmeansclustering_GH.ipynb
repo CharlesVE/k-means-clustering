{
 "cells": [
  {
   "cell_type": "markdown",
   "id": "mexican-impression",
   "metadata": {},
   "source": [
    "# K Means Clustering"
   ]
  },
  {
   "cell_type": "markdown",
   "id": "short-prize",
   "metadata": {},
   "source": [
    "Here we shall be looking at sepal data from sklearn. We shall be evaluating the petal lengths and widths in order to classify the flowers into different clusters of species. "
   ]
  },
  {
   "cell_type": "code",
   "execution_count": 1,
   "id": "changed-factory",
   "metadata": {},
   "outputs": [],
   "source": [
    "import matplotlib.pyplot as plt\n",
    "import numpy as np\n",
    "from sklearn import datasets\n",
    "from copy import deepcopy"
   ]
  },
  {
   "cell_type": "code",
   "execution_count": null,
   "id": "tired-omega",
   "metadata": {},
   "outputs": [],
   "source": [
    "iris = datasets.load_iris()\n",
    "samples = iris.data"
   ]
  },
  {
   "cell_type": "code",
   "execution_count": 9,
   "id": "champion-reputation",
   "metadata": {},
   "outputs": [
    {
     "data": {
      "text/plain": [
       "array([[5.1, 3.5, 1.4, 0.2],\n",
       "       [4.9, 3. , 1.4, 0.2],\n",
       "       [4.7, 3.2, 1.3, 0.2],\n",
       "       [4.6, 3.1, 1.5, 0.2],\n",
       "       [5. , 3.6, 1.4, 0.2]])"
      ]
     },
     "execution_count": 9,
     "metadata": {},
     "output_type": "execute_result"
    }
   ],
   "source": [
    "samples[:5]"
   ]
  },
  {
   "cell_type": "code",
   "execution_count": 2,
   "id": "engaging-amount",
   "metadata": {},
   "outputs": [],
   "source": [
    "# Below returns the 0th column (iris length) and 1st column (iris width).\n",
    "x = samples[:,0]\n",
    "y = samples[:,1]\n",
    "# Join them together into a single array with one column for each\n",
    "sepal_length_width = np.array(list(zip(x, y)))"
   ]
  },
  {
   "cell_type": "code",
   "execution_count": 4,
   "id": "jewish-franklin",
   "metadata": {},
   "outputs": [],
   "source": [
    "# Step 1: Place K random centroids\n",
    "k = 3\n",
    "# The centroids for x are random x coordinates randomly placed between\n",
    "# the largest and smallest x values that exist for the iris length\n",
    "centroids_x = np.random.uniform(min(x), max(x), size=k)\n",
    "# The same can be said for y only with the iris width now instead\n",
    "centroids_y = np.random.uniform(min(y), max(y), size=k)\n",
    "\n",
    "# Join the centroids together\n",
    "centroids = np.array(list(zip(centroids_x, centroids_y)))"
   ]
  },
  {
   "cell_type": "code",
   "execution_count": 5,
   "id": "passive-tuesday",
   "metadata": {},
   "outputs": [],
   "source": [
    "# The distance function is used to calculate the distance between the centroid\n",
    "# and the value of an iris (or an older centroid). \n",
    "# One compares the x coordinates while two compares the y coordinates.\n",
    "def distance(a, b):\n",
    "  one = (a[0] - b[0]) ** 2\n",
    "  two = (a[1] - b[1]) ** 2\n",
    "  distance = (one + two) ** 0.5\n",
    "  return distance"
   ]
  },
  {
   "cell_type": "markdown",
   "id": "together-shame",
   "metadata": {},
   "source": [
    "Next we create 4 'blank' variables that are full of zeros in order to be used\n",
    "later. The first is centroids_old that is where we shall store the value\n",
    "of the centroid when it updates (this can later be used to calculate how far\n",
    "we've moved). The next are the cluster labels. The cluster labels are simply\n",
    "which centroid each sepal coordinate is closest to. The distances are the \n",
    "distances between the centroid and their respective sepals in their \n",
    "jurisdiction. The error is the distance between the centroids and their older\n",
    "counterparts. "
   ]
  },
  {
   "cell_type": "code",
   "execution_count": 10,
   "id": "reverse-swaziland",
   "metadata": {},
   "outputs": [],
   "source": [
    "# To store the value of centroids when it updates\n",
    "centroids_old = np.zeros(centroids.shape)\n",
    "\n",
    "# Cluster labeles (either 0, 1, or 2)\n",
    "labels = np.zeros(len(samples))\n",
    "\n",
    "# To store the distance between the centroids and the sepal_length_width\n",
    "distances = np.zeros(3)\n",
    "\n",
    "# Initialize error:\n",
    "error = np.zeros(3)\n",
    "\n",
    "error[0] = distance(centroids[0], centroids_old[0])\n",
    "error[1] = distance(centroids[1], centroids_old[1])\n",
    "error[2] = distance(centroids[2], centroids_old[2])\n"
   ]
  },
  {
   "cell_type": "code",
   "execution_count": 11,
   "id": "dirty-anaheim",
   "metadata": {},
   "outputs": [],
   "source": [
    "# Repeat Steps 2 and 3 until convergence:\n",
    "\n",
    "while error.all() != 0:\n",
    "\n",
    "  # Step 2: Assign samples to nearest centroid\n",
    "  # Compare the coordinates of the ith sepal with every centroid and store\n",
    "  # their distances in distances. The 0th-centroid's distance shall be\n",
    "  # the 0th element of distances, so that way they match. \n",
    "  for i in range(len(samples)):\n",
    "    distances[0] = distance(sepal_length_width[i], centroids[0])\n",
    "    distances[1] = distance(sepal_length_width[i], centroids[1])\n",
    "    distances[2] = distance(sepal_length_width[i], centroids[2])\n",
    "    cluster = np.argmin(distances)\n",
    "    labels[i] = cluster\n",
    "\n",
    "  # Step 3: Update centroids\n",
    "  # store the old centroid locations\n",
    "  centroids_old = deepcopy(centroids)\n",
    "  \n",
    "  # We look at one centroid at a time. points shall be stored with all the \n",
    "  # points for the ith centroid that we are considering at that time. \n",
    "  for i in range(3):\n",
    "    points = [sepal_length_width[j] for j in range(len(sepal_length_width)) if labels[j] == i]\n",
    "    # The centroid is moved to the mean of its current jurisdiction\n",
    "    centroids[i] = np.mean(points, axis=0)\n",
    "\n",
    "  # The error is calculated for every centroid \n",
    "  # relative to its previous location\n",
    "  error[0] = distance(centroids[0], centroids_old[0])\n",
    "  error[1] = distance(centroids[1], centroids_old[1])\n",
    "  error[2] = distance(centroids[2], centroids_old[2])\n",
    "  \n",
    "  # Note, once the centroid no longer moves, that means that the error will be\n",
    "  # 0 and the while loop shall finish."
   ]
  },
  {
   "cell_type": "code",
   "execution_count": 12,
   "id": "invalid-prisoner",
   "metadata": {},
   "outputs": [
    {
     "data": {
      "image/png": "[encoded data removed]",
      "text/plain": [
       "<Figure size 432x288 with 1 Axes>"
      ]
     },
     "metadata": {
      "needs_background": "light"
     },
     "output_type": "display_data"
    }
   ],
   "source": [
    "# Lastly we plot the results\n",
    "\n",
    "colors = ['r', 'g', 'b']\n",
    "\n",
    "for i in range(k):\n",
    "  points = np.array([sepal_length_width[j] for j in range(len(samples)) if labels[j] == i])\n",
    "  plt.scatter(points[:, 0], points[:, 1], c=colors[i], alpha=0.5)\n",
    "\n",
    "# centroids[:, 0] are all the x values for all the centroids\n",
    "plt.scatter(centroids[:, 0], centroids[:, 1], marker='D', s=150)\n",
    "\n",
    "plt.xlabel('sepal length (cm)')\n",
    "plt.ylabel('sepal width (cm)')\n",
    "\n",
    "plt.show()"
   ]
  },
  {
   "cell_type": "code",
   "execution_count": null,
   "id": "latest-compound",
   "metadata": {},
   "outputs": [],
   "source": []
  },
  {
   "cell_type": "code",
   "execution_count": null,
   "id": "large-brown",
   "metadata": {},
   "outputs": [],
   "source": []
  },
  {
   "cell_type": "code",
   "execution_count": null,
   "id": "floppy-voltage",
   "metadata": {},
   "outputs": [],
   "source": []
  },
  {
   "cell_type": "code",
   "execution_count": null,
   "id": "ahead-booth",
   "metadata": {},
   "outputs": [],
   "source": []
  },
  {
   "cell_type": "code",
   "execution_count": null,
   "id": "angry-balloon",
   "metadata": {},
   "outputs": [],
   "source": []
  },
  {
   "cell_type": "code",
   "execution_count": null,
   "id": "spread-movement",
   "metadata": {},
   "outputs": [],
   "source": []
  },
  {
   "cell_type": "code",
   "execution_count": null,
   "id": "automated-tribe",
   "metadata": {},
   "outputs": [],
   "source": []
  },
  {
   "cell_type": "code",
   "execution_count": null,
   "id": "parallel-territory",
   "metadata": {},
   "outputs": [],
   "source": []
  },
  {
   "cell_type": "code",
   "execution_count": null,
   "id": "waiting-vampire",
   "metadata": {},
   "outputs": [],
   "source": []
  }
 ],
 "metadata": {
  "kernelspec": {
   "display_name": "Python 3",
   "language": "python",
   "name": "python3"
  },
  "language_info": {
   "codemirror_mode": {
    "name": "ipython",
    "version": 3
   },
   "file_extension": ".py",
   "mimetype": "text/x-python",
   "name": "python",
   "nbconvert_exporter": "python",
   "pygments_lexer": "ipython3",
   "version": "3.6.13"
  }
 },
 "nbformat": 4,
 "nbformat_minor": 5
}
